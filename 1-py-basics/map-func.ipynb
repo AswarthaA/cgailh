{
 "cells": [
  {
   "cell_type": "code",
   "execution_count": 8,
   "id": "65e1e608",
   "metadata": {},
   "outputs": [
    {
     "name": "stdout",
     "output_type": "stream",
     "text": [
      "<class 'list'>\n",
      "['asdf', 'qwer', 'zxcv', 1, 2, 3, 4, 5]\n",
      "5\n",
      "['asdf', 'qwer', 'zxcv']\n",
      "[]\n"
     ]
    }
   ],
   "source": [
    "lst =[\"asdf\", \"qwer\", \"zxcv\",1, 2, 3, 4, 5]\n",
    "print(type(lst))\n",
    "print(lst)\n",
    "\n",
    "print(lst[-1]) ## negative index\n",
    "print(lst[0:3]) ## slicing\n",
    "\n",
    "print(lst[-1:-3]) ## slicing"
   ]
  },
  {
   "cell_type": "code",
   "execution_count": 9,
   "id": "e0234009",
   "metadata": {},
   "outputs": [
    {
     "name": "stdout",
     "output_type": "stream",
     "text": [
      "['asdf', 'w', 'a', 't', 'e', 'r', 'm', 'e', 'l', 'o', 'n']\n"
     ]
    }
   ],
   "source": [
    "lst[1:] = \"watermelon\"\n",
    "print(lst) ## list is mutable\n"
   ]
  },
  {
   "cell_type": "code",
   "execution_count": 10,
   "id": "16eb64a8",
   "metadata": {},
   "outputs": [
    {
     "name": "stdout",
     "output_type": "stream",
     "text": [
      "()\n",
      "<class 'tuple'>\n",
      "[]\n",
      "<class 'list'>\n"
     ]
    }
   ],
   "source": [
    "empty_tuple = ()\n",
    "print(empty_tuple)\n",
    "print(type(empty_tuple))\n",
    "lst = list()\n",
    "print(lst)\n",
    "print(type(lst))\n"
   ]
  },
  {
   "cell_type": "code",
   "execution_count": 11,
   "id": "04862025",
   "metadata": {},
   "outputs": [
    {
     "name": "stdout",
     "output_type": "stream",
     "text": [
      "(1, 2, 3, 4, 5)\n",
      "<class 'tuple'>\n",
      "(1, 2, 3, 4, 5)\n",
      "<class 'tuple'>\n"
     ]
    }
   ],
   "source": [
    "number=tuple([1,2,3,4,5])\n",
    "print(number)\n",
    "print(type(number))\n",
    "\n",
    "number=tuple((1,2,3,4,5))\n",
    "print(number)\n",
    "print(type(number))"
   ]
  },
  {
   "cell_type": "code",
   "execution_count": 12,
   "id": "36bf26e8",
   "metadata": {},
   "outputs": [
    {
     "name": "stdout",
     "output_type": "stream",
     "text": [
      "[[1, 'a'], [1, 'b'], [1, 'c'], [1, 'd'], [1, 'e'], [2, 'a'], [2, 'b'], [2, 'c'], [2, 'd'], [2, 'e'], [3, 'a'], [3, 'b'], [3, 'c'], [3, 'd'], [3, 'e'], [4, 'a'], [4, 'b'], [4, 'c'], [4, 'd'], [4, 'e'], [5, 'a'], [5, 'b'], [5, 'c'], [5, 'd'], [5, 'e']]\n"
     ]
    }
   ],
   "source": [
    "##list comprehension\n",
    "\n",
    "lst1 = [1,2,3,4,5]\n",
    "lst2 = ['a','b','c','d','e']\n",
    "\n",
    "pair=[[i,j] for i in lst1 for j in lst2]\n",
    "\n",
    "print(pair)"
   ]
  },
  {
   "cell_type": "code",
   "execution_count": 13,
   "id": "b92c6937",
   "metadata": {},
   "outputs": [
    {
     "name": "stdout",
     "output_type": "stream",
     "text": [
      "[5, 5, 6]\n"
     ]
    }
   ],
   "source": [
    "# List comprehension with function calls\n",
    "words = ['hello', 'world', 'python']\n",
    "\n",
    "lengths = [len(word) for word in words]\n",
    "print(lengths)  # Output: [5, 5, 6]"
   ]
  },
  {
   "cell_type": "code",
   "execution_count": null,
   "id": "0a38f9a1",
   "metadata": {},
   "outputs": [],
   "source": [
    "# list comprehension with else block\n",
    "numbers = [1, 2, 3, 4, 5]\n",
    "squared = [x**2 if x % 2 == 0 else x for x in numbers]\n",
    "print(squared)  # Output: [1, 4, 3, 16, 5]"
   ]
  }
 ],
 "metadata": {
  "kernelspec": {
   "display_name": "Python 3",
   "language": "python",
   "name": "python3"
  },
  "language_info": {
   "codemirror_mode": {
    "name": "ipython",
    "version": 3
   },
   "file_extension": ".py",
   "mimetype": "text/x-python",
   "name": "python",
   "nbconvert_exporter": "python",
   "pygments_lexer": "ipython3",
   "version": "3.12.7"
  }
 },
 "nbformat": 4,
 "nbformat_minor": 5
}
