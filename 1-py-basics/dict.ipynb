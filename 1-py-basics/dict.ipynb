{
 "cells": [
  {
   "cell_type": "code",
   "execution_count": 7,
   "id": "0ad8f119",
   "metadata": {},
   "outputs": [
    {
     "name": "stdout",
     "output_type": "stream",
     "text": [
      "{'Name': 'John Doe', 'Age': 30, 'City': 'New York'}\n",
      "Name: John Doe\n",
      "Age: 30\n",
      "City: New York\n",
      "Keys: ['Name', 'Age', 'City']\n"
     ]
    }
   ],
   "source": [
    "dc = {\"Name\": \"John Doe\", \"Age\": 30, \"City\": \"New York\"}\n",
    "print(dc)\n",
    "\n",
    "for key, value in dc.items():\n",
    "    print(f\"{key}: {value}\")\n",
    "print(f\"Keys:\", list(dc.keys()))"
   ]
  },
  {
   "cell_type": "code",
   "execution_count": 8,
   "id": "517ef167",
   "metadata": {},
   "outputs": [
    {
     "name": "stdout",
     "output_type": "stream",
     "text": [
      "Squares: {0: 0, 1: 1, 2: 4, 3: 9, 4: 16, 5: 25, 6: 36, 7: 49, 8: 64, 9: 81}\n"
     ]
    }
   ],
   "source": [
    "square = { x: x * x for x in range(10) }\n",
    "print(f\"Squares:\", square)"
   ]
  },
  {
   "cell_type": "code",
   "execution_count": 9,
   "id": "f2efdb93",
   "metadata": {},
   "outputs": [
    {
     "name": "stdout",
     "output_type": "stream",
     "text": [
      "Evens: {0: 0, 2: 4, 4: 16, 6: 36, 8: 64}\n"
     ]
    }
   ],
   "source": [
    "evens = { x: x * x for x in range(10) if x % 2 == 0 }\n",
    "print(f\"Evens:\", evens)"
   ]
  },
  {
   "cell_type": "code",
   "execution_count": 10,
   "id": "07eb121a",
   "metadata": {},
   "outputs": [
    {
     "name": "stdout",
     "output_type": "stream",
     "text": [
      "Merged Dictionary: {'Name': 'John Doe', 'Age': 30, 'City': 'New York', 'Country': 'USA'}\n"
     ]
    }
   ],
   "source": [
    "## merge dictionaries\n",
    "dc1 = {\"Name\": \"John Doe\", \"Age\": 30}\n",
    "dc2 = {\"City\": \"New York\", \"Country\": \"USA\"}\n",
    "dc3 = {**dc1, **dc2}\n",
    "print(f\"Merged Dictionary: {dc3}\")"
   ]
  }
 ],
 "metadata": {
  "kernelspec": {
   "display_name": "Python 3",
   "language": "python",
   "name": "python3"
  },
  "language_info": {
   "codemirror_mode": {
    "name": "ipython",
    "version": 3
   },
   "file_extension": ".py",
   "mimetype": "text/x-python",
   "name": "python",
   "nbconvert_exporter": "python",
   "pygments_lexer": "ipython3",
   "version": "3.12.7"
  }
 },
 "nbformat": 4,
 "nbformat_minor": 5
}
