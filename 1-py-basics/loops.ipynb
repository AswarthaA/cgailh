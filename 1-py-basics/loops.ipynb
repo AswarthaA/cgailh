{
 "cells": [
  {
   "cell_type": "code",
   "execution_count": 2,
   "id": "8899c953",
   "metadata": {},
   "outputs": [
    {
     "data": {
      "text/plain": [
       "range(0, 5)"
      ]
     },
     "execution_count": 2,
     "metadata": {},
     "output_type": "execute_result"
    }
   ],
   "source": [
    "range(5)"
   ]
  },
  {
   "cell_type": "code",
   "execution_count": 4,
   "id": "7a04a8c5",
   "metadata": {},
   "outputs": [
    {
     "name": "stdout",
     "output_type": "stream",
     "text": [
      "0\n",
      "1\n",
      "2\n",
      "3\n",
      "4\n",
      "upto 4\n",
      "1\n",
      "2\n",
      "3\n",
      "4\n",
      "5\n",
      "1 to 5\n"
     ]
    }
   ],
   "source": [
    "for i in range(5):\n",
    "    print(i)\n",
    "print(\"upto 4\")\n",
    "\n",
    "for i in range(1,6):\n",
    "    print(i)\n",
    "print(\"1 to 5\")\n"
   ]
  },
  {
   "cell_type": "code",
   "execution_count": 5,
   "id": "dd5bd6ab",
   "metadata": {},
   "outputs": [
    {
     "name": "stdout",
     "output_type": "stream",
     "text": [
      "5\n",
      "7\n",
      "9\n",
      "5 to 10 with step 2\n"
     ]
    }
   ],
   "source": [
    "range(5, 10,2)\n",
    "for i in range(5, 10, 2):\n",
    "    print(i)\n",
    "print(\"5 to 10 with step 2\")"
   ]
  },
  {
   "cell_type": "code",
   "execution_count": 6,
   "id": "52487087",
   "metadata": {},
   "outputs": [
    {
     "name": "stdout",
     "output_type": "stream",
     "text": [
      "0\n",
      "1\n",
      "2\n",
      "3\n",
      "4\n",
      "while loop\n"
     ]
    }
   ],
   "source": [
    "count = 0\n",
    "while count < 5:\n",
    "    print(count)\n",
    "    count += 1\n",
    "print(\"while loop\")"
   ]
  },
  {
   "cell_type": "code",
   "execution_count": 8,
   "id": "9b94a41f",
   "metadata": {},
   "outputs": [
    {
     "name": "stdout",
     "output_type": "stream",
     "text": [
      "0\n",
      "1\n",
      "2\n",
      "break\n",
      "out of loop 3\n"
     ]
    }
   ],
   "source": [
    "for i in range(5):\n",
    "    if i == 3:\n",
    "        print(\"break\")\n",
    "        break\n",
    "    print(i)\n",
    "print(\"out of loop\",i)\n"
   ]
  },
  {
   "cell_type": "code",
   "execution_count": null,
   "id": "3b10d2ea",
   "metadata": {},
   "outputs": [
    {
     "name": "stdout",
     "output_type": "stream",
     "text": [
      "0\n",
      "1\n",
      "2\n",
      "pass\n",
      "3\n",
      "4\n"
     ]
    }
   ],
   "source": [
    "for i in range(5):\n",
    "    if i == 3:\n",
    "        print(\"pass\")\n",
    "        pass # nothing .. just pass\n",
    "    print(i)"
   ]
  }
 ],
 "metadata": {
  "kernelspec": {
   "display_name": "Python 3",
   "language": "python",
   "name": "python3"
  },
  "language_info": {
   "codemirror_mode": {
    "name": "ipython",
    "version": 3
   },
   "file_extension": ".py",
   "mimetype": "text/x-python",
   "name": "python",
   "nbconvert_exporter": "python",
   "pygments_lexer": "ipython3",
   "version": "3.12.7"
  }
 },
 "nbformat": 4,
 "nbformat_minor": 5
}
