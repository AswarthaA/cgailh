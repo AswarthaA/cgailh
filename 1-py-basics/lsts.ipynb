{
 "cells": [
  {
   "cell_type": "code",
   "execution_count": 6,
   "id": "65e1e608",
   "metadata": {},
   "outputs": [
    {
     "name": "stdout",
     "output_type": "stream",
     "text": [
      "<class 'list'>\n",
      "['asdf', 'qwer', 'zxcv', 1, 2, 3, 4, 5]\n",
      "5\n",
      "['asdf', 'qwer', 'zxcv']\n",
      "[]\n"
     ]
    }
   ],
   "source": [
    "lst =[\"asdf\", \"qwer\", \"zxcv\",1, 2, 3, 4, 5]\n",
    "print(type(lst))\n",
    "print(lst)\n",
    "\n",
    "print(lst[-1]) ## negative index\n",
    "print(lst[0:3]) ## slicing\n",
    "\n",
    "print(lst[-1:-3]) ## slicing"
   ]
  },
  {
   "cell_type": "code",
   "execution_count": null,
   "id": "e0234009",
   "metadata": {},
   "outputs": [
    {
     "name": "stdout",
     "output_type": "stream",
     "text": [
      "['asdf', 'w', 'a', 't', 'e', 'r', 'm', 'e', 'l', 'o', 'n']\n"
     ]
    }
   ],
   "source": [
    "lst[1:] = \"watermelon\"\n",
    "print(lst) ## list is mutable\n"
   ]
  },
  {
   "cell_type": "code",
   "execution_count": 9,
   "id": "16eb64a8",
   "metadata": {},
   "outputs": [
    {
     "name": "stdout",
     "output_type": "stream",
     "text": [
      "()\n",
      "<class 'tuple'>\n",
      "[]\n",
      "<class 'list'>\n"
     ]
    }
   ],
   "source": [
    "empty_tuple = ()\n",
    "print(empty_tuple)\n",
    "print(type(empty_tuple))\n",
    "lst = list()\n",
    "print(lst)\n",
    "print(type(lst))\n"
   ]
  },
  {
   "cell_type": "code",
   "execution_count": 11,
   "id": "04862025",
   "metadata": {},
   "outputs": [
    {
     "name": "stdout",
     "output_type": "stream",
     "text": [
      "(1, 2, 3, 4, 5)\n",
      "<class 'tuple'>\n",
      "(1, 2, 3, 4, 5)\n",
      "<class 'tuple'>\n"
     ]
    }
   ],
   "source": [
    "number=tuple([1,2,3,4,5])\n",
    "print(number)\n",
    "print(type(number))\n",
    "\n",
    "number=tuple((1,2,3,4,5))\n",
    "print(number)\n",
    "print(type(number))"
   ]
  }
 ],
 "metadata": {
  "kernelspec": {
   "display_name": "Python 3",
   "language": "python",
   "name": "python3"
  },
  "language_info": {
   "codemirror_mode": {
    "name": "ipython",
    "version": 3
   },
   "file_extension": ".py",
   "mimetype": "text/x-python",
   "name": "python",
   "nbconvert_exporter": "python",
   "pygments_lexer": "ipython3",
   "version": "3.12.7"
  }
 },
 "nbformat": 4,
 "nbformat_minor": 5
}
