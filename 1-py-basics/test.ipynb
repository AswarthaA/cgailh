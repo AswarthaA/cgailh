{
  "cells": [
    {
      "cell_type": "markdown",
      "metadata": {
        "id": "AR0KJMyWc_fc"
      },
      "source": [
        "### Python Example"
      ]
    },
    {
      "cell_type": "code",
      "source": [],
      "metadata": {
        "id": "cmArKfmDdYTL"
      },
      "execution_count": null,
      "outputs": []
    },
    {
      "cell_type": "markdown",
      "source": [
        "# New Section"
      ],
      "metadata": {
        "id": "mceiO2BBdfLw"
      }
    },
    {
      "cell_type": "code",
      "execution_count": null,
      "metadata": {
        "id": "KtVAzRINc_fd",
        "outputId": "4b7800e7-1076-4691-eae5-6d8ec9a2bf1e"
      },
      "outputs": [
        {
          "data": {
            "text/plain": [
              "2"
            ]
          },
          "execution_count": 2,
          "metadata": {},
          "output_type": "execute_result"
        }
      ],
      "source": [
        "1+1"
      ]
    },
    {
      "cell_type": "code",
      "execution_count": null,
      "metadata": {
        "id": "ysSA9FTQc_fd",
        "outputId": "e4ed3db2-0a39-4832-d2ac-7b86c4bb731c"
      },
      "outputs": [
        {
          "name": "stdout",
          "output_type": "stream",
          "text": [
            "Hello, World!\n"
          ]
        }
      ],
      "source": [
        "print(\"Hello, World!\")\n"
      ]
    },
    {
      "cell_type": "code",
      "execution_count": null,
      "metadata": {
        "id": "wr9zQRcZc_fd",
        "outputId": "72a8164e-9e14-4d5a-ff96-78ffc6b39d67"
      },
      "outputs": [
        {
          "data": {
            "text/plain": [
              "'\\n    Testing multimine comment \\n'"
            ]
          },
          "execution_count": 4,
          "metadata": {},
          "output_type": "execute_result"
        }
      ],
      "source": [
        "## this is multiple line comment\n",
        "'''\n",
        "    Testing multimine comment\n",
        "'''"
      ]
    },
    {
      "cell_type": "code",
      "execution_count": null,
      "metadata": {
        "id": "VTtrc9Mnc_fe",
        "outputId": "8cb91e35-fad2-4b18-d372-2ae2dc6c5ac4"
      },
      "outputs": [
        {
          "name": "stdout",
          "output_type": "stream",
          "text": [
            "Aswartha\n",
            "aswartha\n"
          ]
        }
      ],
      "source": [
        "name = \"Aswartha\"\n",
        "\n",
        "Name = \"aswartha\"\n",
        "\n",
        "print(name)\n",
        "print(Name)"
      ]
    },
    {
      "cell_type": "code",
      "execution_count": null,
      "metadata": {
        "id": "HQ0T6emyc_fe",
        "outputId": "21c03ca7-0b73-417d-ed85-18dd8aa13d41"
      },
      "outputs": [
        {
          "name": "stdout",
          "output_type": "stream",
          "text": [
            "You are older than 30\n",
            "You are older than 30\n"
          ]
        }
      ],
      "source": [
        "age = 32\n",
        "if age > 30:\n",
        "    print(\"You are older than 30\")\n",
        "\n",
        "\n",
        "print(\"You are older than 30\")\n"
      ]
    },
    {
      "cell_type": "code",
      "execution_count": null,
      "metadata": {
        "id": "rY_bGxMlc_fe",
        "outputId": "b5df47b9-d433-414d-d314-3152b1c22955"
      },
      "outputs": [
        {
          "name": "stdout",
          "output_type": "stream",
          "text": [
            "55\n"
          ]
        }
      ],
      "source": [
        "## Line continuation\n",
        "## use \\ to continue the line\\\n",
        "\n",
        "a = 1 + 2 + 3 + 4 + 5 + \\\n",
        "    6 + 7 + 8 + 9 + 10\n",
        "print(a)"
      ]
    },
    {
      "cell_type": "code",
      "execution_count": null,
      "metadata": {
        "id": "F9RN1e-6c_fe",
        "outputId": "0749dffa-f34b-4abb-9510-e71ec5bb0753"
      },
      "outputs": [
        {
          "name": "stdout",
          "output_type": "stream",
          "text": [
            "1 2 3 asdfasdf\n"
          ]
        }
      ],
      "source": [
        "## multiple statements on a single line\n",
        "a = 1; b = 2; c = 3; d= \"asdfasdf\"\n",
        "print(a, b, c,d)"
      ]
    },
    {
      "cell_type": "code",
      "execution_count": null,
      "metadata": {
        "id": "tAhEQTv4c_fe",
        "outputId": "22507d89-e8ad-4dfc-c0ea-aa806b948076"
      },
      "outputs": [
        {
          "data": {
            "text/plain": [
              "int"
            ]
          },
          "execution_count": 9,
          "metadata": {},
          "output_type": "execute_result"
        }
      ],
      "source": [
        "## understanding semantics\n",
        "\n",
        "\n",
        "age = 32\n",
        "type(age)"
      ]
    },
    {
      "cell_type": "code",
      "execution_count": null,
      "metadata": {
        "id": "EJwVUOaSc_fe",
        "outputId": "865c5837-175d-48ce-f04a-157ef939a6f0"
      },
      "outputs": [
        {
          "name": "stdout",
          "output_type": "stream",
          "text": [
            "<class 'int'>\n",
            "<class 'str'>\n"
          ]
        }
      ],
      "source": [
        "## TYype inference\n",
        "variable  = 10\n",
        "print(type(variable))\n",
        "variable = \"Raj\"\n",
        "\n",
        "print(type(variable))"
      ]
    },
    {
      "cell_type": "code",
      "execution_count": null,
      "metadata": {
        "id": "cVfIhmgAc_fe",
        "outputId": "77e08e56-e101-479a-cb57-f1bb290ea9db"
      },
      "outputs": [
        {
          "data": {
            "text/plain": [
              "5"
            ]
          },
          "execution_count": 4,
          "metadata": {},
          "output_type": "execute_result"
        }
      ],
      "source": [
        "## Naming conventions\n",
        "ff = 5.99\n",
        "type(ff)\n",
        "\n",
        "int(ff)"
      ]
    },
    {
      "cell_type": "code",
      "execution_count": null,
      "metadata": {
        "id": "G0AzdtYEc_fe",
        "outputId": "2889e7bb-d96c-4ee5-87a2-a49177ae686b"
      },
      "outputs": [
        {
          "name": "stdout",
          "output_type": "stream",
          "text": [
            "10 <class 'int'>\n",
            "Hello <class 'str'>\n"
          ]
        }
      ],
      "source": [
        "## python allows type of variable to be changed\n",
        "\n",
        "var =10\n",
        "print(var,type(var))\n",
        "\n",
        "var = \"Hello\"\n",
        "print(var,type(var))"
      ]
    },
    {
      "cell_type": "code",
      "execution_count": null,
      "metadata": {
        "id": "2lNrPDdac_fe",
        "outputId": "fc945599-592a-4c7c-b7ac-41b843261499"
      },
      "outputs": [
        {
          "name": "stdout",
          "output_type": "stream",
          "text": [
            "43 <class 'str'>\n"
          ]
        }
      ],
      "source": [
        "age = input(\"what is your age? \")\n",
        "print(age, type(age))"
      ]
    },
    {
      "cell_type": "code",
      "execution_count": null,
      "metadata": {
        "id": "Gfm3THTEc_fe",
        "outputId": "6eabf773-23b8-4ba6-b25c-ddc1e67f5813"
      },
      "outputs": [
        {
          "name": "stdout",
          "output_type": "stream",
          "text": [
            "False <class 'bool'>\n"
          ]
        }
      ],
      "source": [
        "is_bool = bool()\n",
        "print(is_bool, type(is_bool))"
      ]
    },
    {
      "cell_type": "code",
      "execution_count": null,
      "metadata": {
        "id": "QPH9_E5Xc_ff",
        "outputId": "2c9a9e86-4ef3-44c1-8710-4cffbfd542bd"
      },
      "outputs": [
        {
          "ename": "TypeError",
          "evalue": "can only concatenate str (not \"int\") to str",
          "output_type": "error",
          "traceback": [
            "\u001b[31m---------------------------------------------------------------------------\u001b[39m",
            "\u001b[31mTypeError\u001b[39m                                 Traceback (most recent call last)",
            "\u001b[36mCell\u001b[39m\u001b[36m \u001b[39m\u001b[32mIn[10]\u001b[39m\u001b[32m, line 1\u001b[39m\n\u001b[32m----> \u001b[39m\u001b[32m1\u001b[39m result = \u001b[33;43m\"\u001b[39;49m\u001b[33;43mhello\u001b[39;49m\u001b[33;43m\"\u001b[39;49m\u001b[43m+\u001b[49m\u001b[32;43m2\u001b[39;49m\n\u001b[32m      2\u001b[39m \u001b[38;5;28mprint\u001b[39m(result, \u001b[38;5;28mtype\u001b[39m(result))\n",
            "\u001b[31mTypeError\u001b[39m: can only concatenate str (not \"int\") to str"
          ]
        }
      ],
      "source": [
        "result = \"hello\"+2\n",
        "print(result, type(result))"
      ]
    },
    {
      "cell_type": "code",
      "execution_count": null,
      "metadata": {
        "id": "C8rd8QP5c_ff",
        "outputId": "8e780f14-e0e5-4edd-c6d6-7e304c723641"
      },
      "outputs": [
        {
          "name": "stdout",
          "output_type": "stream",
          "text": [
            "3 <class 'int'>\n",
            "3.3333333333333335 <class 'float'>\n"
          ]
        }
      ],
      "source": [
        "## Floor division\n",
        "floor_div = 10 // 3\n",
        "print(floor_div, type(floor_div))\n",
        "\n",
        "div = 10 / 3\n",
        "print(div, type(div))"
      ]
    },
    {
      "cell_type": "code",
      "execution_count": null,
      "metadata": {
        "id": "ansPmAAqc_ff",
        "outputId": "e29cd6da-8e01-4f80-cd15-2615bdad6961"
      },
      "outputs": [
        {
          "name": "stdout",
          "output_type": "stream",
          "text": [
            "2024 is a leap year\n"
          ]
        }
      ],
      "source": [
        "year = int(input(\"Enter year: \"))\n",
        "\n",
        "if year%4==0:\n",
        "    if year%100==0:\n",
        "        if year%400==0:\n",
        "            print(year, \"is a leap year\")\n",
        "        else:\n",
        "            print(year, \"is not a leap year\")\n",
        "    else:\n",
        "        print(year, \"is a leap year\")\n",
        "else:\n",
        "    print(year, \"is not a leap year\")"
      ]
    },
    {
      "cell_type": "code",
      "execution_count": null,
      "metadata": {
        "id": "PpLN41Zsc_ff"
      },
      "outputs": [],
      "source": []
    }
  ],
  "metadata": {
    "kernelspec": {
      "display_name": "Python 3",
      "language": "python",
      "name": "python3"
    },
    "language_info": {
      "codemirror_mode": {
        "name": "ipython",
        "version": 3
      },
      "file_extension": ".py",
      "mimetype": "text/x-python",
      "name": "python",
      "nbconvert_exporter": "python",
      "pygments_lexer": "ipython3",
      "version": "3.12.7"
    },
    "colab": {
      "provenance": [],
      "toc_visible": true
    }
  },
  "nbformat": 4,
  "nbformat_minor": 0
}