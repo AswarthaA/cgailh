{
  "cells": [
    {
      "cell_type": "code",
      "execution_count": null,
      "id": "dbff3584",
      "metadata": {
        "id": "dbff3584",
        "outputId": "d37d25b9-26b7-48b1-e6cc-e561871bc686"
      },
      "outputs": [
        {
          "name": "stdout",
          "output_type": "stream",
          "text": [
            "Hello Func\n",
            "234\n",
            "Hello Func\n",
            "string\n"
          ]
        }
      ],
      "source": [
        "def functoin_name(parameters):\n",
        "    \"\"\"Document string\"\"\"\n",
        "    print(\"Hello Func\")\n",
        "    print(parameters)\n",
        "    # return expression\n",
        "    return None\n",
        "\n",
        "\n",
        "functoin_name(234)\n",
        "\n",
        "functoin_name(\"string\")"
      ]
    },
    {
      "cell_type": "code",
      "execution_count": null,
      "id": "cbd67bfa",
      "metadata": {
        "id": "cbd67bfa",
        "outputId": "10363c48-0e41-4ab2-85f8-1bbf1b027e18"
      },
      "outputs": [
        {
          "name": "stdout",
          "output_type": "stream",
          "text": [
            "Hello Alice !\n"
          ]
        }
      ],
      "source": [
        "def greet(name):\n",
        "    \"\"\"Function to greet a person\"\"\"\n",
        "    print(f\"Hello {name} !\")\n",
        "greet(\"Alice\")"
      ]
    },
    {
      "cell_type": "code",
      "source": [
        "def calculate_total_cost(cart):\n",
        "  \"\"\"Function to calculate the total cost of a shopping cart\"\"\"\n",
        "  print(\"Inside calculate_total_cost\")\n",
        "  total = 0\n",
        "  for item in cart:\n",
        "    total += item[\"price\"]\n",
        "  return total\n",
        "  pass\n",
        "\n",
        "calculate_total_cost([{\"name\": \"Apple\", \"quantity\":3, \"price\": 10}, {\"name\": \"Bannana\", \"quantity\":10,\"price\": 20}])"
      ],
      "metadata": {
        "id": "53UEhw08d8Ox",
        "outputId": "80f40b65-aba6-49fd-fc01-0b09453ee618",
        "colab": {
          "base_uri": "https://localhost:8080/"
        }
      },
      "id": "53UEhw08d8Ox",
      "execution_count": 5,
      "outputs": [
        {
          "output_type": "stream",
          "name": "stdout",
          "text": [
            "Inside calculate_total_cost\n"
          ]
        },
        {
          "output_type": "execute_result",
          "data": {
            "text/plain": [
              "30"
            ]
          },
          "metadata": {},
          "execution_count": 5
        }
      ]
    }
  ],
  "metadata": {
    "kernelspec": {
      "display_name": "Python 3",
      "language": "python",
      "name": "python3"
    },
    "language_info": {
      "codemirror_mode": {
        "name": "ipython",
        "version": 3
      },
      "file_extension": ".py",
      "mimetype": "text/x-python",
      "name": "python",
      "nbconvert_exporter": "python",
      "pygments_lexer": "ipython3",
      "version": "3.12.7"
    },
    "colab": {
      "provenance": []
    }
  },
  "nbformat": 4,
  "nbformat_minor": 5
}