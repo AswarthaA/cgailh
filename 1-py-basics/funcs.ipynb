{
  "cells": [
    {
      "cell_type": "code",
      "execution_count": null,
      "id": "dbff3584",
      "metadata": {
        "id": "dbff3584",
        "outputId": "d37d25b9-26b7-48b1-e6cc-e561871bc686"
      },
      "outputs": [
        {
          "name": "stdout",
          "output_type": "stream",
          "text": [
            "Hello Func\n",
            "234\n",
            "Hello Func\n",
            "string\n"
          ]
        }
      ],
      "source": [
        "def functoin_name(parameters):\n",
        "    \"\"\"Document string\"\"\"\n",
        "    print(\"Hello Func\")\n",
        "    print(parameters)\n",
        "    # return expression\n",
        "    return None\n",
        "\n",
        "\n",
        "functoin_name(234)\n",
        "\n",
        "functoin_name(\"string\")"
      ]
    },
    {
      "cell_type": "code",
      "execution_count": null,
      "id": "cbd67bfa",
      "metadata": {
        "id": "cbd67bfa",
        "outputId": "10363c48-0e41-4ab2-85f8-1bbf1b027e18"
      },
      "outputs": [
        {
          "name": "stdout",
          "output_type": "stream",
          "text": [
            "Hello Alice !\n"
          ]
        }
      ],
      "source": [
        "def greet(name):\n",
        "    \"\"\"Function to greet a person\"\"\"\n",
        "    print(f\"Hello {name} !\")\n",
        "greet(\"Alice\")"
      ]
    },
    {
      "cell_type": "code",
      "source": [
        "def calculate_total_cost(cart):\n",
        "  \"\"\"Function to calculate the total cost of a shopping cart\"\"\"\n",
        "  print(\"Inside calculate_total_cost\")\n",
        "  total = 0\n",
        "  for item in cart:\n",
        "    total += (item[\"price\"]*item[\"quantity\"])\n",
        "  return total\n",
        "  pass\n",
        "\n",
        "calculate_total_cost([{\"name\": \"Apple\", \"quantity\":3, \"price\": 10}, {\"name\": \"Bannana\", \"quantity\":10,\"price\": 20}])"
      ],
      "metadata": {
        "colab": {
          "base_uri": "https://localhost:8080/"
        },
        "id": "53UEhw08d8Ox",
        "outputId": "7fe420b4-bc46-4942-98b8-f04ed9c1e846"
      },
      "id": "53UEhw08d8Ox",
      "execution_count": 6,
      "outputs": [
        {
          "output_type": "stream",
          "name": "stdout",
          "text": [
            "Inside calculate_total_cost\n"
          ]
        },
        {
          "output_type": "execute_result",
          "data": {
            "text/plain": [
              "230"
            ]
          },
          "metadata": {},
          "execution_count": 6
        }
      ]
    },
    {
      "cell_type": "code",
      "source": [
        "def is_palindrome(palin):\n",
        "  \"\"\"function to check if string is palindrome\"\"\"\n",
        "  pal = palin.lower().replace(\" \",\"\")\n",
        "  print(pal[::-1])\n",
        "  print(\"Test\"[::-1])\n",
        "  if pal == pal[::-1]:\n",
        "    return True\n",
        "  else:\n",
        "    return False\n",
        "\n",
        "is_palindrome(\"madam\")\n",
        "is_palindrome(\"A man a plan a canal Panama\")\n"
      ],
      "metadata": {
        "colab": {
          "base_uri": "https://localhost:8080/"
        },
        "id": "5oAO4yZ4iHqE",
        "outputId": "32a660ca-8d23-4d1a-b807-f0c7017c9014"
      },
      "id": "5oAO4yZ4iHqE",
      "execution_count": 12,
      "outputs": [
        {
          "output_type": "stream",
          "name": "stdout",
          "text": [
            "madam\n",
            "tseT\n",
            "amanaplanacanalpanama\n",
            "tseT\n"
          ]
        },
        {
          "output_type": "execute_result",
          "data": {
            "text/plain": [
              "True"
            ]
          },
          "metadata": {},
          "execution_count": 12
        }
      ]
    },
    {
      "cell_type": "code",
      "source": [
        "def factorial(n):\n",
        "  if n==0:\n",
        "    return 1\n",
        "  else:\n",
        "      return n*factorial(n-1)\n",
        "\n",
        "factorial(5)\n"
      ],
      "metadata": {
        "colab": {
          "base_uri": "https://localhost:8080/"
        },
        "id": "BPVor4cTjLun",
        "outputId": "2be91acf-7659-4b1c-c500-56eab2b94b4a"
      },
      "id": "BPVor4cTjLun",
      "execution_count": 13,
      "outputs": [
        {
          "output_type": "execute_result",
          "data": {
            "text/plain": [
              "120"
            ]
          },
          "metadata": {},
          "execution_count": 13
        }
      ]
    },
    {
      "cell_type": "code",
      "source": [
        "def factorial2(n):\n",
        "  for i in range(1,n):\n",
        "    n*=i\n",
        "  return n\n",
        "\n",
        "factorial2(5)\n",
        "\n"
      ],
      "metadata": {
        "id": "rsnu56YXlPi5",
        "outputId": "87c1bcb7-4d74-4caf-ff6b-5f49aa4e02e6",
        "colab": {
          "base_uri": "https://localhost:8080/"
        }
      },
      "id": "rsnu56YXlPi5",
      "execution_count": 14,
      "outputs": [
        {
          "output_type": "execute_result",
          "data": {
            "text/plain": [
              "120"
            ]
          },
          "metadata": {},
          "execution_count": 14
        }
      ]
    },
    {
      "cell_type": "code",
      "source": [
        "res = 1\n",
        "temp = [i*res for i in range(1,7) ]\n",
        "print(temp)"
      ],
      "metadata": {
        "id": "EnCkrNYbl9F4",
        "outputId": "78ea421d-ab1b-4d06-a950-2532d20804be",
        "colab": {
          "base_uri": "https://localhost:8080/"
        }
      },
      "id": "EnCkrNYbl9F4",
      "execution_count": 17,
      "outputs": [
        {
          "output_type": "stream",
          "name": "stdout",
          "text": [
            "[1, 2, 3, 4, 5, 6]\n"
          ]
        }
      ]
    },
    {
      "cell_type": "code",
      "source": [
        "def count_word_frequency(file_path):\n",
        "  \"\"\"word frequency function\"\"\"\n",
        "  print(\"Inside count word frequency\")\n",
        "  word_count={}\n",
        "  with open(file_path,'r') as file:\n",
        "    for line in file:\n",
        "      words=line.split()\n",
        "      for word in words:\n",
        "        word = word.lower().strip('./!?;:\"\\'')\n",
        "        word_count[word]=word_count.get(word,0)+1\n",
        "\n",
        "  return word_count\n",
        "\n",
        "filepath='sample.txt'\n",
        "print(count_word_frequency(filepath))"
      ],
      "metadata": {
        "id": "VglG8j-epOyF",
        "outputId": "75406af9-d8f7-45b0-f2b0-241bde1f7503",
        "colab": {
          "base_uri": "https://localhost:8080/",
          "height": 315
        }
      },
      "id": "VglG8j-epOyF",
      "execution_count": 26,
      "outputs": [
        {
          "output_type": "stream",
          "name": "stdout",
          "text": [
            "Inside count word frequency\n"
          ]
        },
        {
          "output_type": "error",
          "ename": "FileNotFoundError",
          "evalue": "[Errno 2] No such file or directory: 'sample.txt'",
          "traceback": [
            "\u001b[0;31m---------------------------------------------------------------------------\u001b[0m",
            "\u001b[0;31mFileNotFoundError\u001b[0m                         Traceback (most recent call last)",
            "\u001b[0;32m<ipython-input-26-b9e3ab443ba8>\u001b[0m in \u001b[0;36m<cell line: 0>\u001b[0;34m()\u001b[0m\n\u001b[1;32m     13\u001b[0m \u001b[0;34m\u001b[0m\u001b[0m\n\u001b[1;32m     14\u001b[0m \u001b[0mfilepath\u001b[0m\u001b[0;34m=\u001b[0m\u001b[0;34m'sample.txt'\u001b[0m\u001b[0;34m\u001b[0m\u001b[0;34m\u001b[0m\u001b[0m\n\u001b[0;32m---> 15\u001b[0;31m \u001b[0mprint\u001b[0m\u001b[0;34m(\u001b[0m\u001b[0mcount_word_frequency\u001b[0m\u001b[0;34m(\u001b[0m\u001b[0mfilepath\u001b[0m\u001b[0;34m)\u001b[0m\u001b[0;34m)\u001b[0m\u001b[0;34m\u001b[0m\u001b[0;34m\u001b[0m\u001b[0m\n\u001b[0m",
            "\u001b[0;32m<ipython-input-26-b9e3ab443ba8>\u001b[0m in \u001b[0;36mcount_word_frequency\u001b[0;34m(file_path)\u001b[0m\n\u001b[1;32m      3\u001b[0m   \u001b[0mprint\u001b[0m\u001b[0;34m(\u001b[0m\u001b[0;34m\"Inside count word frequency\"\u001b[0m\u001b[0;34m)\u001b[0m\u001b[0;34m\u001b[0m\u001b[0;34m\u001b[0m\u001b[0m\n\u001b[1;32m      4\u001b[0m   \u001b[0mword_count\u001b[0m\u001b[0;34m=\u001b[0m\u001b[0;34m{\u001b[0m\u001b[0;34m}\u001b[0m\u001b[0;34m\u001b[0m\u001b[0;34m\u001b[0m\u001b[0m\n\u001b[0;32m----> 5\u001b[0;31m   \u001b[0;32mwith\u001b[0m \u001b[0mopen\u001b[0m\u001b[0;34m(\u001b[0m\u001b[0mfile_path\u001b[0m\u001b[0;34m,\u001b[0m\u001b[0;34m'r'\u001b[0m\u001b[0;34m)\u001b[0m \u001b[0;32mas\u001b[0m \u001b[0mfile\u001b[0m\u001b[0;34m:\u001b[0m\u001b[0;34m\u001b[0m\u001b[0;34m\u001b[0m\u001b[0m\n\u001b[0m\u001b[1;32m      6\u001b[0m     \u001b[0;32mfor\u001b[0m \u001b[0mline\u001b[0m \u001b[0;32min\u001b[0m \u001b[0mfile\u001b[0m\u001b[0;34m:\u001b[0m\u001b[0;34m\u001b[0m\u001b[0;34m\u001b[0m\u001b[0m\n\u001b[1;32m      7\u001b[0m       \u001b[0mwords\u001b[0m\u001b[0;34m=\u001b[0m\u001b[0mline\u001b[0m\u001b[0;34m.\u001b[0m\u001b[0msplit\u001b[0m\u001b[0;34m(\u001b[0m\u001b[0;34m)\u001b[0m\u001b[0;34m\u001b[0m\u001b[0;34m\u001b[0m\u001b[0m\n",
            "\u001b[0;31mFileNotFoundError\u001b[0m: [Errno 2] No such file or directory: 'sample.txt'"
          ]
        }
      ]
    }
  ],
  "metadata": {
    "kernelspec": {
      "display_name": "Python 3",
      "language": "python",
      "name": "python3"
    },
    "language_info": {
      "codemirror_mode": {
        "name": "ipython",
        "version": 3
      },
      "file_extension": ".py",
      "mimetype": "text/x-python",
      "name": "python",
      "nbconvert_exporter": "python",
      "pygments_lexer": "ipython3",
      "version": "3.12.7"
    },
    "colab": {
      "provenance": []
    }
  },
  "nbformat": 4,
  "nbformat_minor": 5
}