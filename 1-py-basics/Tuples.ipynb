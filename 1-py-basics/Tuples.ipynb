{
  "cells": [
    {
      "cell_type": "code",
      "execution_count": null,
      "id": "6e391b6f",
      "metadata": {
        "id": "6e391b6f",
        "outputId": "d64166ec-d664-4362-be05-23a94eee2a90"
      },
      "outputs": [
        {
          "name": "stdout",
          "output_type": "stream",
          "text": [
            "()\n",
            "<class 'tuple'>\n"
          ]
        }
      ],
      "source": [
        "empty_tuple=()\n",
        "print(empty_tuple)\n",
        "print(type(empty_tuple))"
      ]
    },
    {
      "cell_type": "code",
      "source": [
        "def get_name(person):\n",
        "  return person['name']\n",
        "\n",
        "  people = [\n",
        "    {'name': 'Alice', 'age': 25},\n",
        "    {'name': 'Bob', 'age': 30},\n",
        "    {'name': 'Charlie', 'age': 35}\n",
        "  ]\n",
        "  list(map(get_name,people))"
      ],
      "metadata": {
        "id": "MElheuvJio4t"
      },
      "id": "MElheuvJio4t",
      "execution_count": 1,
      "outputs": []
    },
    {
      "cell_type": "code",
      "execution_count": null,
      "id": "27de8f07",
      "metadata": {
        "id": "27de8f07",
        "outputId": "8d9e5456-ce13-4303-f1e1-00d619a28f7e"
      },
      "outputs": [
        {
          "name": "stdout",
          "output_type": "stream",
          "text": [
            "(1, 2, 3)\n",
            "1\n"
          ]
        }
      ],
      "source": [
        "tpl = (1, 2, 3)\n",
        "print(tpl)\n",
        "print(tpl[0])"
      ]
    },
    {
      "cell_type": "code",
      "execution_count": null,
      "id": "f460cc97",
      "metadata": {
        "id": "f460cc97",
        "outputId": "467ef9e0-09dd-42ce-aa2b-039be801b0aa"
      },
      "outputs": [
        {
          "name": "stdout",
          "output_type": "stream",
          "text": [
            "(1, 2, 3, 1, 2.5, 'hello')\n",
            "(1, 2.5, 'hello', 1, 2.5, 'hello', 1, 2.5, 'hello')\n"
          ]
        }
      ],
      "source": [
        "# tuple Operations\n",
        "numbers = (1, 2, 3)\n",
        "mixed_tuple = (1, 2.5, \"hello\")\n",
        "\n",
        "print(numbers + mixed_tuple)\n",
        "# Concatenation\n",
        "\n",
        "print(mixed_tuple*3)\n",
        "# Repetition"
      ]
    },
    {
      "cell_type": "code",
      "execution_count": null,
      "id": "a5672d33",
      "metadata": {
        "id": "a5672d33",
        "outputId": "a2408586-5c3a-49b5-eb8a-8bb6935aff83"
      },
      "outputs": [
        {
          "name": "stdout",
          "output_type": "stream",
          "text": [
            "[10, 2, 3]\n",
            "[10, 'hello', 3]\n",
            "(1, 2, 3)\n"
          ]
        },
        {
          "ename": "TypeError",
          "evalue": "'tuple' object does not support item assignment",
          "output_type": "error",
          "traceback": [
            "\u001b[31m---------------------------------------------------------------------------\u001b[39m",
            "\u001b[31mTypeError\u001b[39m                                 Traceback (most recent call last)",
            "\u001b[36mCell\u001b[39m\u001b[36m \u001b[39m\u001b[32mIn[9]\u001b[39m\u001b[32m, line 11\u001b[39m\n\u001b[32m      9\u001b[39m numbers = (\u001b[32m1\u001b[39m, \u001b[32m2\u001b[39m, \u001b[32m3\u001b[39m)\n\u001b[32m     10\u001b[39m \u001b[38;5;28mprint\u001b[39m(numbers)\n\u001b[32m---> \u001b[39m\u001b[32m11\u001b[39m \u001b[43mnumbers\u001b[49m\u001b[43m[\u001b[49m\u001b[32;43m0\u001b[39;49m\u001b[43m]\u001b[49m = \u001b[32m10\u001b[39m\n\u001b[32m     12\u001b[39m \u001b[38;5;66;03m# TypeError: 'tuple' object does not support item assignment\u001b[39;00m\n",
            "\u001b[31mTypeError\u001b[39m: 'tuple' object does not support item assignment"
          ]
        }
      ],
      "source": [
        "#immutable nature of tuples\n",
        "list1 = [1, 2, 3]\n",
        "list1[0] = 10\n",
        "print(list1)\n",
        "\n",
        "list1[1] = \"hello\"\n",
        "print(list1)\n",
        "\n",
        "numbers = (1, 2, 3)\n",
        "print(numbers)\n",
        "numbers[0] = 10\n",
        "# TypeError: 'tuple' object does not support item assignment\n"
      ]
    },
    {
      "cell_type": "code",
      "execution_count": null,
      "id": "9f64fce9",
      "metadata": {
        "id": "9f64fce9",
        "outputId": "bc77ea86-f8ca-4c28-ff8e-09ae0fac0975"
      },
      "outputs": [
        {
          "name": "stdout",
          "output_type": "stream",
          "text": [
            "1\n",
            "1\n",
            "1\n"
          ]
        }
      ],
      "source": [
        "## Tuple methods\n",
        "\n",
        "numbers = (1, 2, 3, 4, 5)\n",
        "print(numbers.count(2))\n",
        "print(numbers.count(5))\n",
        "\n",
        "print(numbers.index(2))"
      ]
    },
    {
      "cell_type": "code",
      "execution_count": null,
      "id": "b0e2a94f",
      "metadata": {
        "id": "b0e2a94f",
        "outputId": "74c8a564-94fc-4962-8355-3c1c97f57cd2"
      },
      "outputs": [
        {
          "name": "stdout",
          "output_type": "stream",
          "text": [
            "1\n",
            "2\n",
            "3\n",
            "(1, 'hello', 3.14)\n"
          ]
        }
      ],
      "source": [
        "# packing\n",
        "packed_tuple = 1,\"hello\", 3.14\n",
        "print(packed_tuple)\n",
        "\n",
        "## Tuple unpacking\n",
        "a, b, c = (1, 2, 3)\n",
        "print(a)\n",
        "print(b)\n",
        "print(c)\n"
      ]
    },
    {
      "cell_type": "code",
      "execution_count": null,
      "id": "9f5e7881",
      "metadata": {
        "id": "9f5e7881",
        "outputId": "b4252bdf-de98-4925-f987-188faa62b6aa"
      },
      "outputs": [
        {
          "name": "stdout",
          "output_type": "stream",
          "text": [
            "1\n",
            "[3, 4, 5, 6]\n",
            "7\n"
          ]
        }
      ],
      "source": [
        "# unpacking with *\n",
        "numbers = (1, 2, 3, 4, 5, 6, 7)\n",
        "a, b, *rest,last = numbers\n",
        "print(a)\n",
        "print(rest)\n",
        "print(last)\n",
        "\n",
        "# Two * will error out\n",
        "x,*y, *z = numbers"
      ]
    },
    {
      "cell_type": "code",
      "execution_count": null,
      "id": "9cc85aed",
      "metadata": {
        "id": "9cc85aed",
        "outputId": "fbbc3d2d-9c3a-48cc-e0f7-0e78ad8205a0"
      },
      "outputs": [
        {
          "name": "stdout",
          "output_type": "stream",
          "text": [
            "(1, 2, (3, 4), (5, 6))\n",
            "(3, 4)\n",
            "3\n",
            "(3, 4)\n",
            "[1, 2, [3, 4], [5, 6]]\n",
            "3\n",
            "[3, 4]\n"
          ]
        }
      ],
      "source": [
        "## Nested tuples\n",
        "nested_tuple = (1, 2, (3, 4), (5, 6))\n",
        "print(nested_tuple)\n",
        "print(nested_tuple[2])\n",
        "print(nested_tuple[2][0])\n",
        "print(nested_tuple[2][0:2])\n",
        "\n",
        "# Netsted list\n",
        "nested_list = [1, 2, [3, 4], [5, 6]]\n",
        "print(nested_list)\n",
        "print(nested_list[2][0])\n",
        "print(nested_list[2][0:2])"
      ]
    }
  ],
  "metadata": {
    "kernelspec": {
      "display_name": "Python 3",
      "language": "python",
      "name": "python3"
    },
    "language_info": {
      "codemirror_mode": {
        "name": "ipython",
        "version": 3
      },
      "file_extension": ".py",
      "mimetype": "text/x-python",
      "name": "python",
      "nbconvert_exporter": "python",
      "pygments_lexer": "ipython3",
      "version": "3.12.7"
    },
    "colab": {
      "provenance": []
    }
  },
  "nbformat": 4,
  "nbformat_minor": 5
}